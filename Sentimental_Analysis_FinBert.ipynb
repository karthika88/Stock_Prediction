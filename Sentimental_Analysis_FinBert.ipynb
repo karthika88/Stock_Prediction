{
 "cells": [
  {
   "cell_type": "code",
   "execution_count": 1,
   "id": "e4973ee6-ffa3-4749-9d5f-6313104768ff",
   "metadata": {},
   "outputs": [],
   "source": [
    "import pandas as pd\n",
    "from transformers import BertTokenizer, BertForSequenceClassification, pipeline\n",
    "import matplotlib.pyplot as plt"
   ]
  },
  {
   "cell_type": "code",
   "execution_count": 2,
   "id": "15812be1-83e3-4533-a453-2cc0b7f4b3d1",
   "metadata": {},
   "outputs": [
    {
     "data": {
      "application/vnd.jupyter.widget-view+json": {
       "model_id": "d6ee2b072fc744c98c3cdb8bda259fe6",
       "version_major": 2,
       "version_minor": 0
      },
      "text/plain": [
       "vocab.txt:   0%|          | 0.00/226k [00:00<?, ?B/s]"
      ]
     },
     "metadata": {},
     "output_type": "display_data"
    },
    {
     "name": "stderr",
     "output_type": "stream",
     "text": [
      "C:\\Users\\vskar\\OneDrive\\Documents\\stockprice_project\\my_new_env\\Lib\\site-packages\\huggingface_hub\\file_download.py:139: UserWarning: `huggingface_hub` cache-system uses symlinks by default to efficiently store duplicated files but your machine does not support them in C:\\Users\\vskar\\.cache\\huggingface\\hub\\models--yiyanghkust--finbert-tone. Caching files will still work but in a degraded version that might require more space on your disk. This warning can be disabled by setting the `HF_HUB_DISABLE_SYMLINKS_WARNING` environment variable. For more details, see https://huggingface.co/docs/huggingface_hub/how-to-cache#limitations.\n",
      "To support symlinks on Windows, you either need to activate Developer Mode or to run Python as an administrator. In order to activate developer mode, see this article: https://docs.microsoft.com/en-us/windows/apps/get-started/enable-your-device-for-development\n",
      "  warnings.warn(message)\n"
     ]
    },
    {
     "data": {
      "application/vnd.jupyter.widget-view+json": {
       "model_id": "68a8f87a220b49e3a32f5f2f6cd69057",
       "version_major": 2,
       "version_minor": 0
      },
      "text/plain": [
       "config.json:   0%|          | 0.00/533 [00:00<?, ?B/s]"
      ]
     },
     "metadata": {},
     "output_type": "display_data"
    },
    {
     "data": {
      "application/vnd.jupyter.widget-view+json": {
       "model_id": "6219d50178f64bea98aca9763d6759f7",
       "version_major": 2,
       "version_minor": 0
      },
      "text/plain": [
       "pytorch_model.bin:   0%|          | 0.00/439M [00:00<?, ?B/s]"
      ]
     },
     "metadata": {},
     "output_type": "display_data"
    }
   ],
   "source": [
    "# Load the FinBERT model and tokenizer\n",
    "tokenizer = BertTokenizer.from_pretrained('yiyanghkust/finbert-tone')\n",
    "model = BertForSequenceClassification.from_pretrained('yiyanghkust/finbert-tone')"
   ]
  },
  {
   "cell_type": "code",
   "execution_count": 3,
   "id": "fbc9abdf-846d-4dcd-aa3f-7e39a551dd32",
   "metadata": {},
   "outputs": [],
   "source": [
    "# Initialize a sentiment analysis pipeline\n",
    "finbert_pipeline = pipeline(\"sentiment-analysis\", model=model, tokenizer=tokenizer)"
   ]
  },
  {
   "cell_type": "code",
   "execution_count": 4,
   "id": "661f6abd-992c-4dd5-84bb-0228b7079dcc",
   "metadata": {},
   "outputs": [],
   "source": [
    "# Load the dataset\n",
    "try:\n",
    "    news = pd.read_csv('abcnews-date-text.csv')\n",
    "except FileNotFoundError:\n",
    "    print(\"Dataset not found. Please check the file path.\")"
   ]
  },
  {
   "cell_type": "code",
   "execution_count": 5,
   "id": "acc1989a-58e6-4e54-974a-feba3ad1f24c",
   "metadata": {},
   "outputs": [
    {
     "name": "stdout",
     "output_type": "stream",
     "text": [
      "Dataset Info:\n",
      "<class 'pandas.core.frame.DataFrame'>\n",
      "RangeIndex: 1244184 entries, 0 to 1244183\n",
      "Data columns (total 2 columns):\n",
      " #   Column         Non-Null Count    Dtype \n",
      "---  ------         --------------    ----- \n",
      " 0   publish_date   1244184 non-null  int64 \n",
      " 1   headline_text  1244184 non-null  object\n",
      "dtypes: int64(1), object(1)\n",
      "memory usage: 19.0+ MB\n"
     ]
    }
   ],
   "source": [
    "# Display basic information about the dataset\n",
    "print(\"Dataset Info:\")\n",
    "news.info()"
   ]
  },
  {
   "cell_type": "code",
   "execution_count": 6,
   "id": "a55e5e82-cc10-4452-9ce6-9070fd4e6dca",
   "metadata": {},
   "outputs": [
    {
     "name": "stdout",
     "output_type": "stream",
     "text": [
      "\n",
      "First few rows of the dataset:\n",
      "   publish_date                                      headline_text\n",
      "0      20030219  aba decides against community broadcasting lic...\n",
      "1      20030219     act fire witnesses must be aware of defamation\n",
      "2      20030219     a g calls for infrastructure protection summit\n",
      "3      20030219           air nz staff in aust strike for pay rise\n",
      "4      20030219      air nz strike to affect australian travellers\n"
     ]
    }
   ],
   "source": [
    "# Quick look at the first few rows\n",
    "print(\"\\nFirst few rows of the dataset:\")\n",
    "news.head()"
   ]
  },
  {
   "cell_type": "code",
   "execution_count": 7,
   "id": "8d7e03f2-cd6e-4d57-abeb-0fcd4e9ac236",
   "metadata": {},
   "outputs": [
    {
     "name": "stdout",
     "output_type": "stream",
     "text": [
      "\n",
      "Missing values in each column:\n",
      "publish_date     0\n",
      "headline_text    0\n",
      "dtype: int64\n"
     ]
    }
   ],
   "source": [
    "# Check for missing values\n",
    "print(\"\\nMissing values in each column:\")\n",
    "print(news.isnull().sum())"
   ]
  },
  {
   "cell_type": "code",
   "execution_count": 8,
   "id": "efeb60c0-483f-4434-8370-475b47af9e4d",
   "metadata": {},
   "outputs": [
    {
     "name": "stdout",
     "output_type": "stream",
     "text": [
      "\n",
      "Total number of duplicate rows:\n",
      "2\n"
     ]
    }
   ],
   "source": [
    "# Check for duplicates\n",
    "print(\"\\nTotal number of duplicate rows:\")\n",
    "news.duplicated().sum()"
   ]
  },
  {
   "cell_type": "code",
   "execution_count": 9,
   "id": "44244886-e2af-43bd-ba6d-61132ca12e6b",
   "metadata": {},
   "outputs": [
    {
     "name": "stdout",
     "output_type": "stream",
     "text": [
      "\n",
      "Data after dropping duplicates:\n",
      "<class 'pandas.core.frame.DataFrame'>\n",
      "RangeIndex: 1244182 entries, 0 to 1244181\n",
      "Data columns (total 2 columns):\n",
      " #   Column         Non-Null Count    Dtype \n",
      "---  ------         --------------    ----- \n",
      " 0   publish_date   1244182 non-null  int64 \n",
      " 1   headline_text  1244182 non-null  object\n",
      "dtypes: int64(1), object(1)\n",
      "memory usage: 19.0+ MB\n",
      "None\n"
     ]
    }
   ],
   "source": [
    "# Drop duplicates if any\n",
    "news.drop_duplicates(inplace=True, ignore_index=True)\n",
    "print(\"\\nData after dropping duplicates:\")\n",
    "news.info()"
   ]
  },
  {
   "cell_type": "code",
   "execution_count": 10,
   "id": "05c621cb-a775-4b4b-81a7-f4f7fdbd708e",
   "metadata": {},
   "outputs": [
    {
     "name": "stdout",
     "output_type": "stream",
     "text": [
      "\n",
      "Unique headlines count:\n",
      "1213004\n"
     ]
    }
   ],
   "source": [
    "# Check the unique values in 'headline_text'\n",
    "print(\"\\nUnique headlines count:\")\n",
    "news['headline_text'].nunique()"
   ]
  },
  {
   "cell_type": "code",
   "execution_count": 11,
   "id": "97081e5f-eae6-4beb-89fd-2eb7fb80dfa7",
   "metadata": {},
   "outputs": [
    {
     "name": "stdout",
     "output_type": "stream",
     "text": [
      "\n",
      "Data after handling missing 'headline_text' values:\n",
      "<class 'pandas.core.frame.DataFrame'>\n",
      "RangeIndex: 1244182 entries, 0 to 1244181\n",
      "Data columns (total 2 columns):\n",
      " #   Column         Non-Null Count    Dtype \n",
      "---  ------         --------------    ----- \n",
      " 0   publish_date   1244182 non-null  int64 \n",
      " 1   headline_text  1244182 non-null  object\n",
      "dtypes: int64(1), object(1)\n",
      "memory usage: 19.0+ MB\n"
     ]
    }
   ],
   "source": [
    "# Handle missing values in 'headline_text' by dropping rows where 'headline_text' is NaN\n",
    "news.dropna(subset=['headline_text'], inplace=True)\n",
    "print(\"\\nData after handling missing 'headline_text' values:\")\n",
    "news.info()"
   ]
  },
  {
   "cell_type": "code",
   "execution_count": 12,
   "id": "6155c85c-57fd-45ea-9dfd-44645c91af48",
   "metadata": {},
   "outputs": [
    {
     "name": "stdout",
     "output_type": "stream",
     "text": [
      "\n",
      "Data after converting 'publish_date' to datetime:\n",
      "<class 'pandas.core.frame.DataFrame'>\n",
      "RangeIndex: 1244182 entries, 0 to 1244181\n",
      "Data columns (total 2 columns):\n",
      " #   Column         Non-Null Count    Dtype         \n",
      "---  ------         --------------    -----         \n",
      " 0   publish_date   1244182 non-null  datetime64[ns]\n",
      " 1   headline_text  1244182 non-null  object        \n",
      "dtypes: datetime64[ns](1), object(1)\n",
      "memory usage: 19.0+ MB\n"
     ]
    }
   ],
   "source": [
    "# Convert 'publish_date' to datetime\n",
    "news['publish_date'] = pd.to_datetime(news['publish_date'], format='%Y%m%d')\n",
    "print(\"\\nData after converting 'publish_date' to datetime:\")\n",
    "news.info()"
   ]
  },
  {
   "cell_type": "code",
   "execution_count": 13,
   "id": "e496d910-0406-48d7-b6a8-de411f52dec5",
   "metadata": {},
   "outputs": [
    {
     "name": "stdout",
     "output_type": "stream",
     "text": [
      "\n",
      "Top 5 most frequent headlines:\n"
     ]
    },
    {
     "data": {
      "text/plain": [
       "headline_text\n",
       "national rural news                      983\n",
       "abc sport                                718\n",
       "abc weather                              714\n",
       "abc business news and market analysis    585\n",
       "abc entertainment                        551\n",
       "Name: count, dtype: int64"
      ]
     },
     "execution_count": 13,
     "metadata": {},
     "output_type": "execute_result"
    }
   ],
   "source": [
    "# Exploratory Data Analysis: Top 5 headlines by frequency\n",
    "print(\"\\nTop 5 most frequent headlines:\")\n",
    "news['headline_text'].value_counts().head()"
   ]
  },
  {
   "cell_type": "code",
   "execution_count": 14,
   "id": "76bddb09-bf52-463c-ba77-1244922fcfc9",
   "metadata": {},
   "outputs": [],
   "source": [
    "# Filter for business-related news headlines and create a copy\n",
    "business_news = news[news['headline_text'].str.contains('business|market|finance|stocks|economy|investment|trading', case=False)].copy()"
   ]
  },
  {
   "cell_type": "code",
   "execution_count": 15,
   "id": "d8e2b546-fc68-45da-beb4-f27c153ea054",
   "metadata": {},
   "outputs": [],
   "source": [
    "# Perform sentiment analysis using FinBERT\n",
    "def analyze_sentiment(text):\n",
    "    result = finbert_pipeline(text)\n",
    "    return result[0]['label'], result[0]['score']"
   ]
  },
  {
   "cell_type": "code",
   "execution_count": 17,
   "id": "eafa23d1-7fc3-4546-9976-66e57f034b4c",
   "metadata": {},
   "outputs": [],
   "source": [
    "business_news['sentiment_label'], business_news['sentiment_score'] = zip(*business_news['headline_text'].apply(analyze_sentiment))"
   ]
  },
  {
   "cell_type": "code",
   "execution_count": 18,
   "id": "1e0b1a38-c011-493b-89bf-d99d63440148",
   "metadata": {},
   "outputs": [
    {
     "name": "stdout",
     "output_type": "stream",
     "text": [
      "\n",
      "Business news data with FinBERT sentiment analysis:\n",
      "                                       headline_text sentiment_label  \\\n",
      "20   businesses should prepare for terrorist attacks         Neutral   \n",
      "151                   resource stocks boost all ords        Positive   \n",
      "163            shire offers assurances over finances         Neutral   \n",
      "165         slow recovery predicted for aust economy        Negative   \n",
      "341                    mud crab business on the move         Neutral   \n",
      "\n",
      "     sentiment_score  \n",
      "20          0.783112  \n",
      "151         1.000000  \n",
      "163         0.873707  \n",
      "165         0.999993  \n",
      "341         0.999142  \n"
     ]
    }
   ],
   "source": [
    "# Display the first few rows after sentiment analysis\n",
    "print(\"\\nBusiness news data with FinBERT sentiment analysis:\")\n",
    "print(business_news[['headline_text', 'sentiment_label', 'sentiment_score']].head())"
   ]
  },
  {
   "cell_type": "code",
   "execution_count": 19,
   "id": "be48c061-88de-4f1c-a1b1-069b324e158a",
   "metadata": {},
   "outputs": [
    {
     "data": {
      "image/png": "[encoded data removed]",
      "text/plain": [
       "<Figure size 800x500 with 1 Axes>"
      ]
     },
     "metadata": {},
     "output_type": "display_data"
    }
   ],
   "source": [
    "# Visualize sentiment distribution for business news\n",
    "plt.figure(figsize=(8, 5))\n",
    "business_news['sentiment_label'].value_counts().plot(kind='bar', color=['lightgreen', 'red', 'gray'])\n",
    "plt.title('Sentiment Distribution (Business News)')\n",
    "plt.xlabel('Sentiment')\n",
    "plt.ylabel('Frequency')\n",
    "plt.show()"
   ]
  },
  {
   "cell_type": "code",
   "execution_count": 20,
   "id": "2fafebb2-5bd8-44f1-b87d-ae8b1bf50b37",
   "metadata": {},
   "outputs": [],
   "source": [
    "# Filter data to focus on important columns for business news\n",
    "business_news_df = business_news[['publish_date', 'headline_text', 'sentiment_label', 'sentiment_score']]"
   ]
  },
  {
   "cell_type": "code",
   "execution_count": 21,
   "id": "5c23fea8-c718-405b-b4c6-efb34fc88a24",
   "metadata": {},
   "outputs": [],
   "source": [
    "# Reset index for the final business news dataframe\n",
    "business_news_df.reset_index(drop=True, inplace=True)"
   ]
  },
  {
   "cell_type": "code",
   "execution_count": 22,
   "id": "c56df7e3-b243-459d-a4bf-acdd728e0a84",
   "metadata": {},
   "outputs": [
    {
     "name": "stdout",
     "output_type": "stream",
     "text": [
      "\n",
      "Final cleaned business news dataframe:\n",
      "  publish_date                                    headline_text  \\\n",
      "0   2003-02-19  businesses should prepare for terrorist attacks   \n",
      "1   2003-02-19                   resource stocks boost all ords   \n",
      "2   2003-02-19            shire offers assurances over finances   \n",
      "3   2003-02-19         slow recovery predicted for aust economy   \n",
      "4   2003-02-20                    mud crab business on the move   \n",
      "\n",
      "  sentiment_label  sentiment_score  \n",
      "0         Neutral         0.783112  \n",
      "1        Positive         1.000000  \n",
      "2         Neutral         0.873707  \n",
      "3        Negative         0.999993  \n",
      "4         Neutral         0.999142  \n"
     ]
    }
   ],
   "source": [
    "# Display the final cleaned dataframe for business news\n",
    "print(\"\\nFinal cleaned business news dataframe:\")\n",
    "print(business_news_df.head())"
   ]
  },
  {
   "cell_type": "code",
   "execution_count": 23,
   "id": "7cfbf5a6-6d28-4c60-977b-091d7f371a21",
   "metadata": {},
   "outputs": [
    {
     "name": "stdout",
     "output_type": "stream",
     "text": [
      "Cleaned business news data with FinBERT sentiment analysis has been saved to 'cleaned_business_news_with_finbert.csv'\n"
     ]
    }
   ],
   "source": [
    "# Save the cleaned business news data to a new CSV file\n",
    "business_news_df.to_csv('cleaned_business_news_with_finbert.csv', index=False)\n",
    "print(\"Cleaned business news data with FinBERT sentiment analysis has been saved to 'cleaned_business_news_with_finbert.csv'\")"
   ]
  }
 ],
 "metadata": {
  "kernelspec": {
   "display_name": "Python 3 (ipykernel)",
   "language": "python",
   "name": "python3"
  },
  "language_info": {
   "codemirror_mode": {
    "name": "ipython",
    "version": 3
   },
   "file_extension": ".py",
   "mimetype": "text/x-python",
   "name": "python",
   "nbconvert_exporter": "python",
   "pygments_lexer": "ipython3",
   "version": "3.12.0"
  }
 },
 "nbformat": 4,
 "nbformat_minor": 5
}
