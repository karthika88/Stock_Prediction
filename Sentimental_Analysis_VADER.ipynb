{
 "cells": [
  {
   "cell_type": "code",
   "execution_count": 1,
   "id": "d6edee8e-62ef-4817-bb79-33e73b7a8804",
   "metadata": {},
   "outputs": [],
   "source": [
    "import pandas as pd\n",
    "from vaderSentiment.vaderSentiment import SentimentIntensityAnalyzer\n",
    "import matplotlib.pyplot as plt"
   ]
  },
  {
   "cell_type": "code",
   "execution_count": 2,
   "id": "08cf3022-5a6b-442b-9352-736305edfa46",
   "metadata": {},
   "outputs": [],
   "source": [
    "# Initialize VADER sentiment analyzer\n",
    "analyzer = SentimentIntensityAnalyzer()"
   ]
  },
  {
   "cell_type": "code",
   "execution_count": 3,
   "id": "a2a6aba9-284b-4653-86d7-4202924c1838",
   "metadata": {},
   "outputs": [],
   "source": [
    "# Load the dataset\n",
    "try:\n",
    "    news = pd.read_csv('abcnews-date-text.csv')\n",
    "except FileNotFoundError:\n",
    "    print(\"Dataset not found. Please check the file path.\")\n"
   ]
  },
  {
   "cell_type": "code",
   "execution_count": 4,
   "id": "f450b068-e83c-4c1b-b21f-56586007db6f",
   "metadata": {},
   "outputs": [
    {
     "name": "stdout",
     "output_type": "stream",
     "text": [
      "Dataset Info:\n",
      "<class 'pandas.core.frame.DataFrame'>\n",
      "RangeIndex: 1244184 entries, 0 to 1244183\n",
      "Data columns (total 2 columns):\n",
      " #   Column         Non-Null Count    Dtype \n",
      "---  ------         --------------    ----- \n",
      " 0   publish_date   1244184 non-null  int64 \n",
      " 1   headline_text  1244184 non-null  object\n",
      "dtypes: int64(1), object(1)\n",
      "memory usage: 19.0+ MB\n"
     ]
    }
   ],
   "source": [
    "# Display basic information about the dataset\n",
    "print(\"Dataset Info:\")\n",
    "news.info()"
   ]
  },
  {
   "cell_type": "code",
   "execution_count": 5,
   "id": "55715b74-003c-4c03-a29d-cf7558593f4d",
   "metadata": {},
   "outputs": [
    {
     "name": "stdout",
     "output_type": "stream",
     "text": [
      "\n",
      "First few rows of the dataset:\n",
      "   publish_date                                      headline_text\n",
      "0      20030219  aba decides against community broadcasting lic...\n",
      "1      20030219     act fire witnesses must be aware of defamation\n",
      "2      20030219     a g calls for infrastructure protection summit\n",
      "3      20030219           air nz staff in aust strike for pay rise\n",
      "4      20030219      air nz strike to affect australian travellers\n"
     ]
    }
   ],
   "source": [
    "# Quick look at the first few rows\n",
    "print(\"\\nFirst few rows of the dataset:\")\n",
    "news.head()"
   ]
  },
  {
   "cell_type": "code",
   "execution_count": 6,
   "id": "489f068d-16a6-487d-a52c-5df9a11060d2",
   "metadata": {},
   "outputs": [
    {
     "name": "stdout",
     "output_type": "stream",
     "text": [
      "\n",
      "Missing values in each column:\n",
      "publish_date     0\n",
      "headline_text    0\n",
      "dtype: int64\n"
     ]
    }
   ],
   "source": [
    "# Check for missing values\n",
    "print(\"\\nMissing values in each column:\")\n",
    "news.isnull().sum()"
   ]
  },
  {
   "cell_type": "code",
   "execution_count": 7,
   "id": "0d5c83ef-0d66-4e1a-805e-e240815383cc",
   "metadata": {},
   "outputs": [
    {
     "name": "stdout",
     "output_type": "stream",
     "text": [
      "\n",
      "Total number of duplicate rows:\n",
      "2\n"
     ]
    }
   ],
   "source": [
    "# Check for duplicates\n",
    "print(\"\\nTotal number of duplicate rows:\")\n",
    "print(news.duplicated().sum())"
   ]
  },
  {
   "cell_type": "code",
   "execution_count": 8,
   "id": "e297d2cf-c234-4f3b-9049-c3a59fd4629b",
   "metadata": {},
   "outputs": [
    {
     "name": "stdout",
     "output_type": "stream",
     "text": [
      "\n",
      "Data after dropping duplicates:\n",
      "<class 'pandas.core.frame.DataFrame'>\n",
      "RangeIndex: 1244182 entries, 0 to 1244181\n",
      "Data columns (total 2 columns):\n",
      " #   Column         Non-Null Count    Dtype \n",
      "---  ------         --------------    ----- \n",
      " 0   publish_date   1244182 non-null  int64 \n",
      " 1   headline_text  1244182 non-null  object\n",
      "dtypes: int64(1), object(1)\n",
      "memory usage: 19.0+ MB\n",
      "None\n"
     ]
    }
   ],
   "source": [
    "# Drop duplicates if any\n",
    "news.drop_duplicates(inplace=True, ignore_index=True)\n",
    "print(\"\\nData after dropping duplicates:\")\n",
    "news.info()"
   ]
  },
  {
   "cell_type": "code",
   "execution_count": 9,
   "id": "15bc7526-6a5a-4364-9af5-dcae0902b0cf",
   "metadata": {},
   "outputs": [
    {
     "name": "stdout",
     "output_type": "stream",
     "text": [
      "\n",
      "Unique headlines count:\n"
     ]
    },
    {
     "data": {
      "text/plain": [
       "1213004"
      ]
     },
     "execution_count": 9,
     "metadata": {},
     "output_type": "execute_result"
    }
   ],
   "source": [
    "# Check the unique values in 'headline_text'\n",
    "print(\"\\nUnique headlines count:\")\n",
    "news['headline_text'].nunique()"
   ]
  },
  {
   "cell_type": "code",
   "execution_count": 10,
   "id": "82d6b881-946b-430c-af3a-1623776016f6",
   "metadata": {},
   "outputs": [
    {
     "name": "stdout",
     "output_type": "stream",
     "text": [
      "\n",
      "Data after handling missing 'headline_text' values:\n",
      "<class 'pandas.core.frame.DataFrame'>\n",
      "RangeIndex: 1244182 entries, 0 to 1244181\n",
      "Data columns (total 2 columns):\n",
      " #   Column         Non-Null Count    Dtype \n",
      "---  ------         --------------    ----- \n",
      " 0   publish_date   1244182 non-null  int64 \n",
      " 1   headline_text  1244182 non-null  object\n",
      "dtypes: int64(1), object(1)\n",
      "memory usage: 19.0+ MB\n"
     ]
    }
   ],
   "source": [
    "# Handle missing values in 'headline_text' by dropping rows where 'headline_text' is NaN\n",
    "news.dropna(subset=['headline_text'], inplace=True)\n",
    "print(\"\\nData after handling missing 'headline_text' values:\")\n",
    "news.info()"
   ]
  },
  {
   "cell_type": "code",
   "execution_count": 11,
   "id": "06938f63-ba1e-4daf-8e03-39dfebe28fa5",
   "metadata": {},
   "outputs": [
    {
     "name": "stdout",
     "output_type": "stream",
     "text": [
      "\n",
      "Data after converting 'publish_date' to datetime:\n",
      "<class 'pandas.core.frame.DataFrame'>\n",
      "RangeIndex: 1244182 entries, 0 to 1244181\n",
      "Data columns (total 2 columns):\n",
      " #   Column         Non-Null Count    Dtype         \n",
      "---  ------         --------------    -----         \n",
      " 0   publish_date   1244182 non-null  datetime64[ns]\n",
      " 1   headline_text  1244182 non-null  object        \n",
      "dtypes: datetime64[ns](1), object(1)\n",
      "memory usage: 19.0+ MB\n"
     ]
    }
   ],
   "source": [
    "# Convert 'publish_date' to datetime\n",
    "news['publish_date'] = pd.to_datetime(news['publish_date'], format='%Y%m%d')\n",
    "print(\"\\nData after converting 'publish_date' to datetime:\")\n",
    "news.info()"
   ]
  },
  {
   "cell_type": "code",
   "execution_count": 12,
   "id": "06e7c995-47fa-4c38-9140-02b83699c878",
   "metadata": {},
   "outputs": [
    {
     "name": "stdout",
     "output_type": "stream",
     "text": [
      "\n",
      "Top 5 most frequent headlines:\n"
     ]
    },
    {
     "data": {
      "text/plain": [
       "headline_text\n",
       "national rural news                      983\n",
       "abc sport                                718\n",
       "abc weather                              714\n",
       "abc business news and market analysis    585\n",
       "abc entertainment                        551\n",
       "Name: count, dtype: int64"
      ]
     },
     "execution_count": 12,
     "metadata": {},
     "output_type": "execute_result"
    }
   ],
   "source": [
    "# Exploratory Data Analysis: Top 5 headlines by frequency\n",
    "print(\"\\nTop 5 most frequent headlines:\")\n",
    "news['headline_text'].value_counts().head()"
   ]
  },
  {
   "cell_type": "code",
   "execution_count": 13,
   "id": "af86557f-2561-40d7-966c-e24cd1a8cd3e",
   "metadata": {},
   "outputs": [],
   "source": [
    "# Filter for business-related news headlines and create a copy\n",
    "business_news = news[news['headline_text'].str.contains('business|market|finance|stocks|economy|investment|trading', case=False)].copy()"
   ]
  },
  {
   "cell_type": "code",
   "execution_count": 14,
   "id": "9caa32c5-3211-42a1-989e-496f56842e79",
   "metadata": {},
   "outputs": [],
   "source": [
    "# Perform sentiment analysis using VADER\n",
    "business_news['compound_score'] = business_news['headline_text'].apply(lambda x: analyzer.polarity_scores(x)['compound'])\n",
    "business_news['positive'] = business_news['headline_text'].apply(lambda x: analyzer.polarity_scores(x)['pos'])\n",
    "business_news['neutral'] = business_news['headline_text'].apply(lambda x: analyzer.polarity_scores(x)['neu'])\n",
    "business_news['negative'] = business_news['headline_text'].apply(lambda x: analyzer.polarity_scores(x)['neg'])"
   ]
  },
  {
   "cell_type": "code",
   "execution_count": 15,
   "id": "e4a2d6df-300c-4830-8832-d8fd69580eb9",
   "metadata": {},
   "outputs": [
    {
     "name": "stdout",
     "output_type": "stream",
     "text": [
      "\n",
      "Business news data with VADER sentiment scores:\n"
     ]
    },
    {
     "data": {
      "text/html": [
       "<div>\n",
       "<style scoped>\n",
       "    .dataframe tbody tr th:only-of-type {\n",
       "        vertical-align: middle;\n",
       "    }\n",
       "\n",
       "    .dataframe tbody tr th {\n",
       "        vertical-align: top;\n",
       "    }\n",
       "\n",
       "    .dataframe thead th {\n",
       "        text-align: right;\n",
       "    }\n",
       "</style>\n",
       "<table border=\"1\" class=\"dataframe\">\n",
       "  <thead>\n",
       "    <tr style=\"text-align: right;\">\n",
       "      <th></th>\n",
       "      <th>headline_text</th>\n",
       "      <th>compound_score</th>\n",
       "      <th>positive</th>\n",
       "      <th>neutral</th>\n",
       "      <th>negative</th>\n",
       "    </tr>\n",
       "  </thead>\n",
       "  <tbody>\n",
       "    <tr>\n",
       "      <th>20</th>\n",
       "      <td>businesses should prepare for terrorist attacks</td>\n",
       "      <td>-0.8225</td>\n",
       "      <td>0.000</td>\n",
       "      <td>0.345</td>\n",
       "      <td>0.655</td>\n",
       "    </tr>\n",
       "    <tr>\n",
       "      <th>151</th>\n",
       "      <td>resource stocks boost all ords</td>\n",
       "      <td>0.4019</td>\n",
       "      <td>0.403</td>\n",
       "      <td>0.597</td>\n",
       "      <td>0.000</td>\n",
       "    </tr>\n",
       "    <tr>\n",
       "      <th>163</th>\n",
       "      <td>shire offers assurances over finances</td>\n",
       "      <td>0.3400</td>\n",
       "      <td>0.375</td>\n",
       "      <td>0.625</td>\n",
       "      <td>0.000</td>\n",
       "    </tr>\n",
       "    <tr>\n",
       "      <th>165</th>\n",
       "      <td>slow recovery predicted for aust economy</td>\n",
       "      <td>0.0000</td>\n",
       "      <td>0.000</td>\n",
       "      <td>1.000</td>\n",
       "      <td>0.000</td>\n",
       "    </tr>\n",
       "    <tr>\n",
       "      <th>341</th>\n",
       "      <td>mud crab business on the move</td>\n",
       "      <td>0.0000</td>\n",
       "      <td>0.000</td>\n",
       "      <td>1.000</td>\n",
       "      <td>0.000</td>\n",
       "    </tr>\n",
       "  </tbody>\n",
       "</table>\n",
       "</div>"
      ],
      "text/plain": [
       "                                       headline_text  compound_score  \\\n",
       "20   businesses should prepare for terrorist attacks         -0.8225   \n",
       "151                   resource stocks boost all ords          0.4019   \n",
       "163            shire offers assurances over finances          0.3400   \n",
       "165         slow recovery predicted for aust economy          0.0000   \n",
       "341                    mud crab business on the move          0.0000   \n",
       "\n",
       "     positive  neutral  negative  \n",
       "20      0.000    0.345     0.655  \n",
       "151     0.403    0.597     0.000  \n",
       "163     0.375    0.625     0.000  \n",
       "165     0.000    1.000     0.000  \n",
       "341     0.000    1.000     0.000  "
      ]
     },
     "execution_count": 15,
     "metadata": {},
     "output_type": "execute_result"
    }
   ],
   "source": [
    "# Display the first few rows after sentiment analysis\n",
    "print(\"\\nBusiness news data with VADER sentiment scores:\")\n",
    "business_news[['headline_text', 'compound_score', 'positive', 'neutral', 'negative']].head()"
   ]
  },
  {
   "cell_type": "code",
   "execution_count": 16,
   "id": "b9e2eb87-fdad-4616-8f23-df20f4968238",
   "metadata": {},
   "outputs": [
    {
     "data": {
      "text/plain": [
       "Text(0, 0.5, 'Frequency')"
      ]
     },
     "execution_count": 16,
     "metadata": {},
     "output_type": "execute_result"
    },
    {
     "data": {
      "image/png": "[encoded data removed]",
      "text/plain": [
       "<Figure size 1000x600 with 1 Axes>"
      ]
     },
     "metadata": {},
     "output_type": "display_data"
    }
   ],
   "source": [
    "# Visualize sentiment distribution for business news\n",
    "plt.figure(figsize=(10, 6))\n",
    "plt.subplot(1, 2, 1)\n",
    "business_news['compound_score'].hist(bins=50, color='skyblue', edgecolor='black')\n",
    "plt.title('Compound Score Distribution (Business News)')\n",
    "plt.xlabel('Compound Score')\n",
    "plt.ylabel('Frequency')"
   ]
  },
  {
   "cell_type": "code",
   "execution_count": 17,
   "id": "54552095-37e4-4618-b7c9-f9007260d54a",
   "metadata": {},
   "outputs": [
    {
     "data": {
      "image/png": "[encoded data removed]",
      "text/plain": [
       "<Figure size 640x480 with 1 Axes>"
      ]
     },
     "metadata": {},
     "output_type": "display_data"
    }
   ],
   "source": [
    "plt.subplot(1, 2, 2)\n",
    "business_news['positive'].hist(bins=50, color='lightgreen', edgecolor='black', alpha=0.7, label='Positive')\n",
    "business_news['negative'].hist(bins=50, color='red', edgecolor='black', alpha=0.7, label='Negative')\n",
    "plt.title('Positive and Negative Score Distribution (Business News)')\n",
    "plt.xlabel('Sentiment Score')\n",
    "plt.ylabel('Frequency')\n",
    "plt.legend()\n",
    "\n",
    "plt.tight_layout()\n",
    "plt.show()"
   ]
  },
  {
   "cell_type": "code",
   "execution_count": 18,
   "id": "7607b34b-eeed-412c-ab38-75980f01ebf8",
   "metadata": {},
   "outputs": [],
   "source": [
    "# Filter data to focus on important columns for business news\n",
    "business_news_df = business_news[['publish_date', 'headline_text', 'compound_score', 'positive', 'neutral', 'negative']]"
   ]
  },
  {
   "cell_type": "code",
   "execution_count": 19,
   "id": "a4c8d6c6-b7ea-4ba1-a51a-61ffbb367a4b",
   "metadata": {},
   "outputs": [],
   "source": [
    "# Reset index for the final business news dataframe\n",
    "business_news_df.reset_index(drop=True, inplace=True)"
   ]
  },
  {
   "cell_type": "code",
   "execution_count": 20,
   "id": "b915e5f1-9aca-4bb5-9359-a45a7ae0d1db",
   "metadata": {},
   "outputs": [
    {
     "name": "stdout",
     "output_type": "stream",
     "text": [
      "\n",
      "Final cleaned business news dataframe:\n",
      "  publish_date                                    headline_text  \\\n",
      "0   2003-02-19  businesses should prepare for terrorist attacks   \n",
      "1   2003-02-19                   resource stocks boost all ords   \n",
      "2   2003-02-19            shire offers assurances over finances   \n",
      "3   2003-02-19         slow recovery predicted for aust economy   \n",
      "4   2003-02-20                    mud crab business on the move   \n",
      "\n",
      "   compound_score  positive  neutral  negative  \n",
      "0         -0.8225     0.000    0.345     0.655  \n",
      "1          0.4019     0.403    0.597     0.000  \n",
      "2          0.3400     0.375    0.625     0.000  \n",
      "3          0.0000     0.000    1.000     0.000  \n",
      "4          0.0000     0.000    1.000     0.000  \n"
     ]
    }
   ],
   "source": [
    "# Display the final cleaned dataframe for business news\n",
    "print(\"\\nFinal cleaned business news dataframe:\")\n",
    "print(business_news_df.head())"
   ]
  },
  {
   "cell_type": "code",
   "execution_count": 21,
   "id": "cd2371f8-aa1e-4572-a90c-caf06f6b46df",
   "metadata": {},
   "outputs": [
    {
     "name": "stdout",
     "output_type": "stream",
     "text": [
      "Cleaned business news data with VADER sentiment scores has been saved to 'cleaned_business_news_with_vader.csv'\n"
     ]
    }
   ],
   "source": [
    "# Save the cleaned business news data to a new CSV file\n",
    "business_news_df.to_csv('cleaned_business_news_with_vader.csv', index=False)\n",
    "print(\"Cleaned business news data with VADER sentiment scores has been saved to 'cleaned_business_news_with_vader.csv'\")"
   ]
  }
 ],
 "metadata": {
  "kernelspec": {
   "display_name": "Python 3 (ipykernel)",
   "language": "python",
   "name": "python3"
  },
  "language_info": {
   "codemirror_mode": {
    "name": "ipython",
    "version": 3
   },
   "file_extension": ".py",
   "mimetype": "text/x-python",
   "name": "python",
   "nbconvert_exporter": "python",
   "pygments_lexer": "ipython3",
   "version": "3.12.0"
  }
 },
 "nbformat": 4,
 "nbformat_minor": 5
}
