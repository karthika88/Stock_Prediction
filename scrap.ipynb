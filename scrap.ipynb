{
 "cells": [
  {
   "cell_type": "code",
   "execution_count": 1,
   "id": "fca90d1f-7385-4f51-86a1-5bace8fd7a6f",
   "metadata": {},
   "outputs": [],
   "source": [
    "import requests\n",
    "from bs4 import BeautifulSoup\n",
    "import pandas as pd"
   ]
  },
  {
   "cell_type": "code",
   "execution_count": 2,
   "id": "814c09c3-90af-474a-95cf-393dc0259b82",
   "metadata": {},
   "outputs": [],
   "source": [
    "# Define the URL for Yahoo Finance news\n",
    "url = \"https://finance.yahoo.com/news\"\n",
    "\n",
    "# Make an HTTP request to the website\n",
    "response = requests.get(url)"
   ]
  },
  {
   "cell_type": "code",
   "execution_count": 7,
   "id": "cd7781c1-4e7e-4dba-8d87-8a1bcac6ce6f",
   "metadata": {},
   "outputs": [
    {
     "name": "stdout",
     "output_type": "stream",
     "text": [
      "                                            Headline  \\\n",
      "0  Alex Jones-affiliated company challenges the O...   \n",
      "1  Stellantis CEO says will adapt to U.S. market ...   \n",
      "2  Thames Water Pushes Deadline in Hunt for £3.3 ...   \n",
      "3  Nvidia Is Helping Google Design Quantum Comput...   \n",
      "4  How Robert F. Kennedy Jr. could impact the hea...   \n",
      "\n",
      "                                                Link  \n",
      "0  https://finance.yahoo.com/news/alex-jones-affi...  \n",
      "1  https://finance.yahoo.com/news/stellantis-ceo-...  \n",
      "2  https://finance.yahoo.com/news/thames-water-pu...  \n",
      "3  https://finance.yahoo.com/news/nvidia-helping-...  \n",
      "4  https://finance.yahoo.com/news/how-robert-f-ke...  \n"
     ]
    }
   ],
   "source": [
    "# Check if the request was successful (status code 200)\n",
    "if response.status_code == 200:\n",
    "    # Parse the HTML content using BeautifulSoup\n",
    "    soup = BeautifulSoup(response.content, 'html.parser')\n",
    "    \n",
    "    # Find all the <div> containers that hold the article headlines and links\n",
    "    articles = soup.find_all('div', class_='content yf-1qcp8cc')\n",
    "    \n",
    "    # Extract headlines and links\n",
    "    news_data = []\n",
    "    for article in articles:\n",
    "        # Try to extract the headline using the h3 tag\n",
    "        headline_tag = article.find('h3', class_='clamp tw-line-clamp-3 sm:tw-line-clamp-2 yf-1qcp8cc')\n",
    "        \n",
    "        if headline_tag:\n",
    "            # Extract headline text\n",
    "            headline = headline_tag.text.strip()\n",
    "        else:\n",
    "            # Skip this article if no headline is found\n",
    "            continue\n",
    "        \n",
    "        # Extract link from the <a> tag (if exists)\n",
    "        link_tag = article.find('a', class_ = 'subtle-link fin-size-small titles noUnderline yf-1e4diqp')\n",
    "        \n",
    "        if link_tag and 'href' in link_tag.attrs:\n",
    "            link = link_tag['href']\n",
    "            # Check if the link already contains the full URL\n",
    "            if not link.startswith('http'):\n",
    "                link = \"https://finance.yahoo.com\" + link\n",
    "        else:\n",
    "            # If no <a> tag or href attribute is found, skip this article\n",
    "            print(f\"No link found for headline: {headline}\")\n",
    "        \n",
    "        # Append the extracted data to the list\n",
    "        if headline:\n",
    "            news_data.append({\n",
    "                \"Headline\": headline,\n",
    "                \"Link\": link\n",
    "            })\n",
    "    \n",
    "    # Convert to a Pandas DataFrame\n",
    "    news_df = pd.DataFrame(news_data)\n",
    "\n",
    "    # Display the first few rows\n",
    "    print(news_df.head())\n",
    "\n",
    "    # Save to a CSV file for later use\n",
    "    news_df.to_csv('news_data.csv', index=False)\n",
    "\n",
    "else:\n",
    "    print(f\"Failed to retrieve the page. Status code: {response.status_code}\")"
   ]
  }
 ],
 "metadata": {
  "kernelspec": {
   "display_name": "Python 3 (ipykernel)",
   "language": "python",
   "name": "python3"
  },
  "language_info": {
   "codemirror_mode": {
    "name": "ipython",
    "version": 3
   },
   "file_extension": ".py",
   "mimetype": "text/x-python",
   "name": "python",
   "nbconvert_exporter": "python",
   "pygments_lexer": "ipython3",
   "version": "3.12.0"
  }
 },
 "nbformat": 4,
 "nbformat_minor": 5
}
